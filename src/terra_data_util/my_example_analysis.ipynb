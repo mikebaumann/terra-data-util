{
 "cells": [
  {
   "cell_type": "markdown",
   "metadata": {},
   "source": [
    "This Notebook shows how to consolidate the Gen3 graph data into a single Terra \n",
    "table using functions from the `terra_data_utils` Notebook."
   ]
  },
  {
   "cell_type": "markdown",
   "metadata": {},
   "source": [
    "Ensure that a recent version of `firecloud` is installed.  \n",
    "The version must be 0.16.23 or later for flexible entity support."
   ]
  },
  {
   "cell_type": "code",
   "execution_count": 1,
   "metadata": {},
   "outputs": [],
   "source": [
    "# ! pip install --upgrade firecloud\n",
    "# ! pip show firecloud"
   ]
  },
  {
   "cell_type": "markdown",
   "metadata": {},
   "source": [
    "Import the terra_data_util Notebook to make those functions available in this Notebook.  \n",
    "Note: The warning message shown below is new with the recent Notebook Runtime upgrade, it is not due to these Notebooks per se."
   ]
  },
  {
   "cell_type": "code",
   "execution_count": 2,
   "metadata": {},
   "outputs": [],
   "source": [
    "%run terra_data_util.ipynb"
   ]
  },
  {
   "cell_type": "markdown",
   "metadata": {},
   "source": [
    "To test with data in a different workspace than the one that contains this Notebook, specify remote workspace information below. This enables convenient testing of data for multiple different projects/cohorts using this same Notebook in the current workspace."
   ]
  },
  {
   "cell_type": "code",
   "execution_count": 3,
   "metadata": {},
   "outputs": [],
   "source": [
    "# os.environ['GOOGLE_PROJECT'] = os.environ['WORKSPACE_NAMESPACE'] = \"anvil-stage-demo\"\n",
    "# os.environ['WORKSPACE_NAME']=\"mbaumann terra_data_util test Amish\""
   ]
  },
  {
   "cell_type": "code",
   "execution_count": 4,
   "metadata": {},
   "outputs": [
    {
     "data": {
      "text/plain": [
       "'anvil-stage-demo'"
      ]
     },
     "execution_count": 4,
     "metadata": {},
     "output_type": "execute_result"
    }
   ],
   "source": [
    "# Set and verify the Google billing project environment variable\n",
    "BILLING_PROJECT_ID = os.environ['GOOGLE_PROJECT']\n",
    "BILLING_PROJECT_ID"
   ]
  },
  {
   "cell_type": "code",
   "execution_count": 5,
   "metadata": {},
   "outputs": [
    {
     "data": {
      "text/plain": [
       "'mbaumann terra_data_util test Amish'"
      ]
     },
     "execution_count": 5,
     "metadata": {},
     "output_type": "execute_result"
    }
   ],
   "source": [
    "# Set and verify the Workspace name\n",
    "WORKSPACE = os.environ['WORKSPACE_NAME']\n",
    "WORKSPACE"
   ]
  },
  {
   "cell_type": "markdown",
   "metadata": {},
   "source": [
    "Define the name of the consolidated data table, then create the consolidated table.\n",
    "If the consolidated data table already exists, it will be updated with any new or modified data from the Gen3 data tables. Any additions that have been made to the consolidated table, such as workflow outputs, will be preserved."
   ]
  },
  {
   "cell_type": "code",
   "execution_count": 6,
   "metadata": {
    "pixiedust": {
     "displayParams": {}
    }
   },
   "outputs": [],
   "source": [
    "consolidated_table_name = \"consolidated_metadata\""
   ]
  },
  {
   "cell_type": "code",
   "execution_count": 7,
   "metadata": {},
   "outputs": [
    {
     "name": "stdout",
     "output_type": "stream",
     "text": [
      "The consolidated data frame size is: 930 rows x 234 columns\n",
      "The consolidated data table consolidated_metadata size is: 930 rows x 234 columns\n"
     ]
    }
   ],
   "source": [
    "consolidate_gen3_geno_pheno_tables(consolidated_table_name)"
   ]
  },
  {
   "cell_type": "markdown",
   "metadata": {},
   "source": [
    "Load the consolidated table into a Pandas dataframe, then review what it contains.  "
   ]
  },
  {
   "cell_type": "code",
   "execution_count": 8,
   "metadata": {
    "scrolled": true
   },
   "outputs": [
    {
     "data": {
      "text/html": [
       "<div>\n",
       "<style scoped>\n",
       "    .dataframe tbody tr th:only-of-type {\n",
       "        vertical-align: middle;\n",
       "    }\n",
       "\n",
       "    .dataframe tbody tr th {\n",
       "        vertical-align: top;\n",
       "    }\n",
       "\n",
       "    .dataframe thead th {\n",
       "        text-align: right;\n",
       "    }\n",
       "</style>\n",
       "<table border=\"1\" class=\"dataframe\">\n",
       "  <thead>\n",
       "    <tr style=\"text-align: right;\">\n",
       "      <th></th>\n",
       "      <th>entity:consolidated_metadata_id</th>\n",
       "      <th>aligned_reads_index_created_datetime</th>\n",
       "      <th>aligned_reads_index_data_category</th>\n",
       "      <th>aligned_reads_index_data_format</th>\n",
       "      <th>aligned_reads_index_data_type</th>\n",
       "      <th>aligned_reads_index_eid</th>\n",
       "      <th>aligned_reads_index_file_name</th>\n",
       "      <th>aligned_reads_index_file_size</th>\n",
       "      <th>aligned_reads_index_file_state</th>\n",
       "      <th>aligned_reads_index_md5sum</th>\n",
       "      <th>...</th>\n",
       "      <th>submitted_aligned_reads_file_state</th>\n",
       "      <th>submitted_aligned_reads_md5sum</th>\n",
       "      <th>submitted_aligned_reads_object_id</th>\n",
       "      <th>submitted_aligned_reads_project_id</th>\n",
       "      <th>submitted_aligned_reads_state</th>\n",
       "      <th>submitted_aligned_reads_submitter_id</th>\n",
       "      <th>submitted_aligned_reads_updated_datetime</th>\n",
       "      <th>medical_history_age_at_cac_score</th>\n",
       "      <th>medical_history_cac_score</th>\n",
       "      <th>medical_history_unit_cac_score</th>\n",
       "    </tr>\n",
       "  </thead>\n",
       "  <tbody>\n",
       "    <tr>\n",
       "      <th>0</th>\n",
       "      <td>DBG00001</td>\n",
       "      <td>2019-10-30T16:23:28.116537+00:00</td>\n",
       "      <td>Sequencing Data</td>\n",
       "      <td>CRAI</td>\n",
       "      <td>Aligned Reads Index</td>\n",
       "      <td>237fb2f1-25f5-4279-a811-1d2020caa2bf</td>\n",
       "      <td>NWD256836.b38.irc.v1.cram.crai</td>\n",
       "      <td>1362986</td>\n",
       "      <td>registered</td>\n",
       "      <td>56fe7506dc8f61ec871a081ee2079f45</td>\n",
       "      <td>...</td>\n",
       "      <td>registered</td>\n",
       "      <td>c013542e112077a031b851eb4afa5ce0</td>\n",
       "      <td>drs://dg.4503/31c651b6-7317-4540-bd58-187573cd...</td>\n",
       "      <td>topmed-Amish_HMB-IRB-MDS</td>\n",
       "      <td>validated</td>\n",
       "      <td>NWD256836-cram</td>\n",
       "      <td>2019-10-30T16:21:09.589184+00:00</td>\n",
       "      <td>NaN</td>\n",
       "      <td>NaN</td>\n",
       "      <td>NaN</td>\n",
       "    </tr>\n",
       "    <tr>\n",
       "      <th>1</th>\n",
       "      <td>DBG00002</td>\n",
       "      <td>2019-10-30T16:23:09.390143+00:00</td>\n",
       "      <td>Sequencing Data</td>\n",
       "      <td>CRAI</td>\n",
       "      <td>Aligned Reads Index</td>\n",
       "      <td>64644ab9-558c-4e6f-9695-fa7c2b09ea2d</td>\n",
       "      <td>NWD129114.b38.irc.v1.cram.crai</td>\n",
       "      <td>1762913</td>\n",
       "      <td>registered</td>\n",
       "      <td>c061f0512d06b3b1f1cb572d6e119a86</td>\n",
       "      <td>...</td>\n",
       "      <td>registered</td>\n",
       "      <td>43db97f081a21c026da325a768ad0a9f</td>\n",
       "      <td>drs://dg.4503/044e9b96-ebec-4b7e-9141-ad2f4819...</td>\n",
       "      <td>topmed-Amish_HMB-IRB-MDS</td>\n",
       "      <td>validated</td>\n",
       "      <td>NWD129114-cram</td>\n",
       "      <td>2019-10-30T16:20:51.021292+00:00</td>\n",
       "      <td>NaN</td>\n",
       "      <td>NaN</td>\n",
       "      <td>NaN</td>\n",
       "    </tr>\n",
       "    <tr>\n",
       "      <th>2</th>\n",
       "      <td>DBG00003</td>\n",
       "      <td>2019-10-30T16:24:28.452069+00:00</td>\n",
       "      <td>Sequencing Data</td>\n",
       "      <td>CRAI</td>\n",
       "      <td>Aligned Reads Index</td>\n",
       "      <td>f6946616-1f1c-42e7-8c9a-9f6d0f1734b3</td>\n",
       "      <td>NWD652420.b38.irc.v1.cram.crai</td>\n",
       "      <td>1313396</td>\n",
       "      <td>registered</td>\n",
       "      <td>765d099358b2d87f7c870e0669e5d269</td>\n",
       "      <td>...</td>\n",
       "      <td>registered</td>\n",
       "      <td>a48cd816c8c6b1ba4faf54a352c2ab3c</td>\n",
       "      <td>drs://dg.4503/3ccd50c8-dd0c-4bb3-971f-0ea05d94...</td>\n",
       "      <td>topmed-Amish_HMB-IRB-MDS</td>\n",
       "      <td>validated</td>\n",
       "      <td>NWD652420-cram</td>\n",
       "      <td>2019-10-30T16:22:08.795401+00:00</td>\n",
       "      <td>NaN</td>\n",
       "      <td>NaN</td>\n",
       "      <td>NaN</td>\n",
       "    </tr>\n",
       "    <tr>\n",
       "      <th>3</th>\n",
       "      <td>DBG00004</td>\n",
       "      <td>2019-10-30T16:23:31.786935+00:00</td>\n",
       "      <td>Sequencing Data</td>\n",
       "      <td>CRAI</td>\n",
       "      <td>Aligned Reads Index</td>\n",
       "      <td>6d4bc1f3-d39e-432d-a978-ee75d7d8b7f1</td>\n",
       "      <td>NWD265950.b38.irc.v1.cram.crai</td>\n",
       "      <td>1260058</td>\n",
       "      <td>registered</td>\n",
       "      <td>be2e97fdf97baaf95dfb0bd5f5a07dc6</td>\n",
       "      <td>...</td>\n",
       "      <td>registered</td>\n",
       "      <td>ee53827c53276789083cd60d8df55b5a</td>\n",
       "      <td>drs://dg.4503/9b7528a2-e2c8-410c-9a7c-60f4b113...</td>\n",
       "      <td>topmed-Amish_HMB-IRB-MDS</td>\n",
       "      <td>validated</td>\n",
       "      <td>NWD265950-cram</td>\n",
       "      <td>2019-10-30T16:21:13.005889+00:00</td>\n",
       "      <td>NaN</td>\n",
       "      <td>NaN</td>\n",
       "      <td>NaN</td>\n",
       "    </tr>\n",
       "    <tr>\n",
       "      <th>4</th>\n",
       "      <td>DBG00009</td>\n",
       "      <td>2019-10-30T16:24:39.598492+00:00</td>\n",
       "      <td>Sequencing Data</td>\n",
       "      <td>CRAI</td>\n",
       "      <td>Aligned Reads Index</td>\n",
       "      <td>b3318301-0c0a-4a97-81c5-b561c98d169a</td>\n",
       "      <td>NWD726988.b38.irc.v1.cram.crai</td>\n",
       "      <td>1158901</td>\n",
       "      <td>registered</td>\n",
       "      <td>0a797ff8f5c44377eb4b71e12838f086</td>\n",
       "      <td>...</td>\n",
       "      <td>registered</td>\n",
       "      <td>2438f39abd010e733409e797840733d6</td>\n",
       "      <td>drs://dg.4503/758bd559-6cbf-4820-bb5b-f17d752e...</td>\n",
       "      <td>topmed-Amish_HMB-IRB-MDS</td>\n",
       "      <td>validated</td>\n",
       "      <td>NWD726988-cram</td>\n",
       "      <td>2019-10-30T16:22:20.480628+00:00</td>\n",
       "      <td>NaN</td>\n",
       "      <td>NaN</td>\n",
       "      <td>NaN</td>\n",
       "    </tr>\n",
       "    <tr>\n",
       "      <th>...</th>\n",
       "      <td>...</td>\n",
       "      <td>...</td>\n",
       "      <td>...</td>\n",
       "      <td>...</td>\n",
       "      <td>...</td>\n",
       "      <td>...</td>\n",
       "      <td>...</td>\n",
       "      <td>...</td>\n",
       "      <td>...</td>\n",
       "      <td>...</td>\n",
       "      <td>...</td>\n",
       "      <td>...</td>\n",
       "      <td>...</td>\n",
       "      <td>...</td>\n",
       "      <td>...</td>\n",
       "      <td>...</td>\n",
       "      <td>...</td>\n",
       "      <td>...</td>\n",
       "      <td>...</td>\n",
       "      <td>...</td>\n",
       "      <td>...</td>\n",
       "    </tr>\n",
       "    <tr>\n",
       "      <th>925</th>\n",
       "      <td>DBG01123</td>\n",
       "      <td>2019-10-30T16:24:47.435205+00:00</td>\n",
       "      <td>Sequencing Data</td>\n",
       "      <td>CRAI</td>\n",
       "      <td>Aligned Reads Index</td>\n",
       "      <td>ec86b39a-82c1-4da6-a598-5e61e9855ac7</td>\n",
       "      <td>NWD781301.b38.irc.v1.cram.crai</td>\n",
       "      <td>1584280</td>\n",
       "      <td>registered</td>\n",
       "      <td>d7d58d40810119560bd9a1f5cb7c7081</td>\n",
       "      <td>...</td>\n",
       "      <td>registered</td>\n",
       "      <td>17c8519271fd77ec8e4f73633a406333</td>\n",
       "      <td>drs://dg.4503/0b7ff5ef-8be4-4084-809c-618ee41a...</td>\n",
       "      <td>topmed-Amish_HMB-IRB-MDS</td>\n",
       "      <td>validated</td>\n",
       "      <td>NWD781301-cram</td>\n",
       "      <td>2019-10-30T16:22:27.870544+00:00</td>\n",
       "      <td>NaN</td>\n",
       "      <td>NaN</td>\n",
       "      <td>NaN</td>\n",
       "    </tr>\n",
       "    <tr>\n",
       "      <th>926</th>\n",
       "      <td>DBG01125</td>\n",
       "      <td>2019-10-30T16:23:39.540538+00:00</td>\n",
       "      <td>Sequencing Data</td>\n",
       "      <td>CRAI</td>\n",
       "      <td>Aligned Reads Index</td>\n",
       "      <td>151eba7a-7150-425a-a140-c3d72b61a02b</td>\n",
       "      <td>NWD309240.b38.irc.v1.cram.crai</td>\n",
       "      <td>1645845</td>\n",
       "      <td>registered</td>\n",
       "      <td>b260159fc401100069f4ea6f686cb6be</td>\n",
       "      <td>...</td>\n",
       "      <td>registered</td>\n",
       "      <td>0f2b6aa8b0511d49a2c27aff74ea5f1c</td>\n",
       "      <td>drs://dg.4503/51a12b06-5a99-455b-be6f-1fec3d88...</td>\n",
       "      <td>topmed-Amish_HMB-IRB-MDS</td>\n",
       "      <td>validated</td>\n",
       "      <td>NWD309240-cram</td>\n",
       "      <td>2019-10-30T16:21:20.423206+00:00</td>\n",
       "      <td>61.0</td>\n",
       "      <td>32.950001</td>\n",
       "      <td>Amish</td>\n",
       "    </tr>\n",
       "    <tr>\n",
       "      <th>927</th>\n",
       "      <td>DBG01127</td>\n",
       "      <td>2019-10-30T16:24:05.832668+00:00</td>\n",
       "      <td>Sequencing Data</td>\n",
       "      <td>CRAI</td>\n",
       "      <td>Aligned Reads Index</td>\n",
       "      <td>c382a264-f1fa-44ae-9541-441a93386e40</td>\n",
       "      <td>NWD506693.b38.irc.v1.cram.crai</td>\n",
       "      <td>1287353</td>\n",
       "      <td>registered</td>\n",
       "      <td>3a747cc15a1fadb2ae28bdcb340a98ea</td>\n",
       "      <td>...</td>\n",
       "      <td>registered</td>\n",
       "      <td>8fe7548ae32593c3e3e317fb8bbdbbf6</td>\n",
       "      <td>drs://dg.4503/d3e451d8-f21e-4ce4-a159-1fb84954...</td>\n",
       "      <td>topmed-Amish_HMB-IRB-MDS</td>\n",
       "      <td>validated</td>\n",
       "      <td>NWD506693-cram</td>\n",
       "      <td>2019-10-30T16:21:45.897775+00:00</td>\n",
       "      <td>61.0</td>\n",
       "      <td>4.120000</td>\n",
       "      <td>Amish</td>\n",
       "    </tr>\n",
       "    <tr>\n",
       "      <th>928</th>\n",
       "      <td>DBG01128</td>\n",
       "      <td>2019-10-30T16:24:59.654956+00:00</td>\n",
       "      <td>Sequencing Data</td>\n",
       "      <td>CRAI</td>\n",
       "      <td>Aligned Reads Index</td>\n",
       "      <td>e9f45d3b-bc60-47cc-b2dc-9afc841f3040</td>\n",
       "      <td>NWD844528.b38.irc.v1.cram.crai</td>\n",
       "      <td>1567704</td>\n",
       "      <td>registered</td>\n",
       "      <td>2c4ebebb4a30b8360ca9b25e1f855597</td>\n",
       "      <td>...</td>\n",
       "      <td>registered</td>\n",
       "      <td>4c55813b8d790694668ffa1e8062ba33</td>\n",
       "      <td>drs://dg.4503/76a52da8-48b0-4176-8f6d-3d68b9e6...</td>\n",
       "      <td>topmed-Amish_HMB-IRB-MDS</td>\n",
       "      <td>validated</td>\n",
       "      <td>NWD844528-cram</td>\n",
       "      <td>2019-10-30T16:22:39.000033+00:00</td>\n",
       "      <td>NaN</td>\n",
       "      <td>NaN</td>\n",
       "      <td>NaN</td>\n",
       "    </tr>\n",
       "    <tr>\n",
       "      <th>929</th>\n",
       "      <td>DBG01129</td>\n",
       "      <td>2019-10-30T16:24:47.435205+00:00</td>\n",
       "      <td>Sequencing Data</td>\n",
       "      <td>CRAI</td>\n",
       "      <td>Aligned Reads Index</td>\n",
       "      <td>d17be78d-b170-4205-b9c7-cc1d0ce01daa</td>\n",
       "      <td>NWD789125.b38.irc.v1.cram.crai</td>\n",
       "      <td>1410348</td>\n",
       "      <td>registered</td>\n",
       "      <td>7d74841e07e1f21fb84f03e18370730a</td>\n",
       "      <td>...</td>\n",
       "      <td>registered</td>\n",
       "      <td>0d142ee700e26672de6f39260adc6d30</td>\n",
       "      <td>drs://dg.4503/55e3ca70-0a4b-4c88-b1ff-529c2d8d...</td>\n",
       "      <td>topmed-Amish_HMB-IRB-MDS</td>\n",
       "      <td>validated</td>\n",
       "      <td>NWD789125-cram</td>\n",
       "      <td>2019-10-30T16:22:27.870544+00:00</td>\n",
       "      <td>54.0</td>\n",
       "      <td>0.000000</td>\n",
       "      <td>Amish</td>\n",
       "    </tr>\n",
       "  </tbody>\n",
       "</table>\n",
       "<p>930 rows × 234 columns</p>\n",
       "</div>"
      ],
      "text/plain": [
       "    entity:consolidated_metadata_id aligned_reads_index_created_datetime  \\\n",
       "0                          DBG00001     2019-10-30T16:23:28.116537+00:00   \n",
       "1                          DBG00002     2019-10-30T16:23:09.390143+00:00   \n",
       "2                          DBG00003     2019-10-30T16:24:28.452069+00:00   \n",
       "3                          DBG00004     2019-10-30T16:23:31.786935+00:00   \n",
       "4                          DBG00009     2019-10-30T16:24:39.598492+00:00   \n",
       "..                              ...                                  ...   \n",
       "925                        DBG01123     2019-10-30T16:24:47.435205+00:00   \n",
       "926                        DBG01125     2019-10-30T16:23:39.540538+00:00   \n",
       "927                        DBG01127     2019-10-30T16:24:05.832668+00:00   \n",
       "928                        DBG01128     2019-10-30T16:24:59.654956+00:00   \n",
       "929                        DBG01129     2019-10-30T16:24:47.435205+00:00   \n",
       "\n",
       "    aligned_reads_index_data_category aligned_reads_index_data_format  \\\n",
       "0                     Sequencing Data                            CRAI   \n",
       "1                     Sequencing Data                            CRAI   \n",
       "2                     Sequencing Data                            CRAI   \n",
       "3                     Sequencing Data                            CRAI   \n",
       "4                     Sequencing Data                            CRAI   \n",
       "..                                ...                             ...   \n",
       "925                   Sequencing Data                            CRAI   \n",
       "926                   Sequencing Data                            CRAI   \n",
       "927                   Sequencing Data                            CRAI   \n",
       "928                   Sequencing Data                            CRAI   \n",
       "929                   Sequencing Data                            CRAI   \n",
       "\n",
       "    aligned_reads_index_data_type               aligned_reads_index_eid  \\\n",
       "0             Aligned Reads Index  237fb2f1-25f5-4279-a811-1d2020caa2bf   \n",
       "1             Aligned Reads Index  64644ab9-558c-4e6f-9695-fa7c2b09ea2d   \n",
       "2             Aligned Reads Index  f6946616-1f1c-42e7-8c9a-9f6d0f1734b3   \n",
       "3             Aligned Reads Index  6d4bc1f3-d39e-432d-a978-ee75d7d8b7f1   \n",
       "4             Aligned Reads Index  b3318301-0c0a-4a97-81c5-b561c98d169a   \n",
       "..                            ...                                   ...   \n",
       "925           Aligned Reads Index  ec86b39a-82c1-4da6-a598-5e61e9855ac7   \n",
       "926           Aligned Reads Index  151eba7a-7150-425a-a140-c3d72b61a02b   \n",
       "927           Aligned Reads Index  c382a264-f1fa-44ae-9541-441a93386e40   \n",
       "928           Aligned Reads Index  e9f45d3b-bc60-47cc-b2dc-9afc841f3040   \n",
       "929           Aligned Reads Index  d17be78d-b170-4205-b9c7-cc1d0ce01daa   \n",
       "\n",
       "      aligned_reads_index_file_name  aligned_reads_index_file_size  \\\n",
       "0    NWD256836.b38.irc.v1.cram.crai                        1362986   \n",
       "1    NWD129114.b38.irc.v1.cram.crai                        1762913   \n",
       "2    NWD652420.b38.irc.v1.cram.crai                        1313396   \n",
       "3    NWD265950.b38.irc.v1.cram.crai                        1260058   \n",
       "4    NWD726988.b38.irc.v1.cram.crai                        1158901   \n",
       "..                              ...                            ...   \n",
       "925  NWD781301.b38.irc.v1.cram.crai                        1584280   \n",
       "926  NWD309240.b38.irc.v1.cram.crai                        1645845   \n",
       "927  NWD506693.b38.irc.v1.cram.crai                        1287353   \n",
       "928  NWD844528.b38.irc.v1.cram.crai                        1567704   \n",
       "929  NWD789125.b38.irc.v1.cram.crai                        1410348   \n",
       "\n",
       "    aligned_reads_index_file_state        aligned_reads_index_md5sum  ...  \\\n",
       "0                       registered  56fe7506dc8f61ec871a081ee2079f45  ...   \n",
       "1                       registered  c061f0512d06b3b1f1cb572d6e119a86  ...   \n",
       "2                       registered  765d099358b2d87f7c870e0669e5d269  ...   \n",
       "3                       registered  be2e97fdf97baaf95dfb0bd5f5a07dc6  ...   \n",
       "4                       registered  0a797ff8f5c44377eb4b71e12838f086  ...   \n",
       "..                             ...                               ...  ...   \n",
       "925                     registered  d7d58d40810119560bd9a1f5cb7c7081  ...   \n",
       "926                     registered  b260159fc401100069f4ea6f686cb6be  ...   \n",
       "927                     registered  3a747cc15a1fadb2ae28bdcb340a98ea  ...   \n",
       "928                     registered  2c4ebebb4a30b8360ca9b25e1f855597  ...   \n",
       "929                     registered  7d74841e07e1f21fb84f03e18370730a  ...   \n",
       "\n",
       "    submitted_aligned_reads_file_state    submitted_aligned_reads_md5sum  \\\n",
       "0                           registered  c013542e112077a031b851eb4afa5ce0   \n",
       "1                           registered  43db97f081a21c026da325a768ad0a9f   \n",
       "2                           registered  a48cd816c8c6b1ba4faf54a352c2ab3c   \n",
       "3                           registered  ee53827c53276789083cd60d8df55b5a   \n",
       "4                           registered  2438f39abd010e733409e797840733d6   \n",
       "..                                 ...                               ...   \n",
       "925                         registered  17c8519271fd77ec8e4f73633a406333   \n",
       "926                         registered  0f2b6aa8b0511d49a2c27aff74ea5f1c   \n",
       "927                         registered  8fe7548ae32593c3e3e317fb8bbdbbf6   \n",
       "928                         registered  4c55813b8d790694668ffa1e8062ba33   \n",
       "929                         registered  0d142ee700e26672de6f39260adc6d30   \n",
       "\n",
       "                     submitted_aligned_reads_object_id  \\\n",
       "0    drs://dg.4503/31c651b6-7317-4540-bd58-187573cd...   \n",
       "1    drs://dg.4503/044e9b96-ebec-4b7e-9141-ad2f4819...   \n",
       "2    drs://dg.4503/3ccd50c8-dd0c-4bb3-971f-0ea05d94...   \n",
       "3    drs://dg.4503/9b7528a2-e2c8-410c-9a7c-60f4b113...   \n",
       "4    drs://dg.4503/758bd559-6cbf-4820-bb5b-f17d752e...   \n",
       "..                                                 ...   \n",
       "925  drs://dg.4503/0b7ff5ef-8be4-4084-809c-618ee41a...   \n",
       "926  drs://dg.4503/51a12b06-5a99-455b-be6f-1fec3d88...   \n",
       "927  drs://dg.4503/d3e451d8-f21e-4ce4-a159-1fb84954...   \n",
       "928  drs://dg.4503/76a52da8-48b0-4176-8f6d-3d68b9e6...   \n",
       "929  drs://dg.4503/55e3ca70-0a4b-4c88-b1ff-529c2d8d...   \n",
       "\n",
       "    submitted_aligned_reads_project_id submitted_aligned_reads_state  \\\n",
       "0             topmed-Amish_HMB-IRB-MDS                     validated   \n",
       "1             topmed-Amish_HMB-IRB-MDS                     validated   \n",
       "2             topmed-Amish_HMB-IRB-MDS                     validated   \n",
       "3             topmed-Amish_HMB-IRB-MDS                     validated   \n",
       "4             topmed-Amish_HMB-IRB-MDS                     validated   \n",
       "..                                 ...                           ...   \n",
       "925           topmed-Amish_HMB-IRB-MDS                     validated   \n",
       "926           topmed-Amish_HMB-IRB-MDS                     validated   \n",
       "927           topmed-Amish_HMB-IRB-MDS                     validated   \n",
       "928           topmed-Amish_HMB-IRB-MDS                     validated   \n",
       "929           topmed-Amish_HMB-IRB-MDS                     validated   \n",
       "\n",
       "    submitted_aligned_reads_submitter_id  \\\n",
       "0                         NWD256836-cram   \n",
       "1                         NWD129114-cram   \n",
       "2                         NWD652420-cram   \n",
       "3                         NWD265950-cram   \n",
       "4                         NWD726988-cram   \n",
       "..                                   ...   \n",
       "925                       NWD781301-cram   \n",
       "926                       NWD309240-cram   \n",
       "927                       NWD506693-cram   \n",
       "928                       NWD844528-cram   \n",
       "929                       NWD789125-cram   \n",
       "\n",
       "    submitted_aligned_reads_updated_datetime medical_history_age_at_cac_score  \\\n",
       "0           2019-10-30T16:21:09.589184+00:00                              NaN   \n",
       "1           2019-10-30T16:20:51.021292+00:00                              NaN   \n",
       "2           2019-10-30T16:22:08.795401+00:00                              NaN   \n",
       "3           2019-10-30T16:21:13.005889+00:00                              NaN   \n",
       "4           2019-10-30T16:22:20.480628+00:00                              NaN   \n",
       "..                                       ...                              ...   \n",
       "925         2019-10-30T16:22:27.870544+00:00                              NaN   \n",
       "926         2019-10-30T16:21:20.423206+00:00                             61.0   \n",
       "927         2019-10-30T16:21:45.897775+00:00                             61.0   \n",
       "928         2019-10-30T16:22:39.000033+00:00                              NaN   \n",
       "929         2019-10-30T16:22:27.870544+00:00                             54.0   \n",
       "\n",
       "    medical_history_cac_score medical_history_unit_cac_score  \n",
       "0                         NaN                            NaN  \n",
       "1                         NaN                            NaN  \n",
       "2                         NaN                            NaN  \n",
       "3                         NaN                            NaN  \n",
       "4                         NaN                            NaN  \n",
       "..                        ...                            ...  \n",
       "925                       NaN                            NaN  \n",
       "926                 32.950001                          Amish  \n",
       "927                  4.120000                          Amish  \n",
       "928                       NaN                            NaN  \n",
       "929                  0.000000                          Amish  \n",
       "\n",
       "[930 rows x 234 columns]"
      ]
     },
     "execution_count": 8,
     "metadata": {},
     "output_type": "execute_result"
    }
   ],
   "source": [
    "consolidated_df = get_terra_table_to_df(BILLING_PROJECT_ID, WORKSPACE, consolidated_table_name)\n",
    "consolidated_df"
   ]
  },
  {
   "cell_type": "markdown",
   "metadata": {},
   "source": [
    "Names and number of columns:"
   ]
  },
  {
   "cell_type": "code",
   "execution_count": 9,
   "metadata": {},
   "outputs": [
    {
     "data": {
      "text/plain": [
       "Index(['entity:consolidated_metadata_id',\n",
       "       'aligned_reads_index_created_datetime',\n",
       "       'aligned_reads_index_data_category', 'aligned_reads_index_data_format',\n",
       "       'aligned_reads_index_data_type', 'aligned_reads_index_eid',\n",
       "       'aligned_reads_index_file_name', 'aligned_reads_index_file_size',\n",
       "       'aligned_reads_index_file_state', 'aligned_reads_index_md5sum',\n",
       "       ...\n",
       "       'submitted_aligned_reads_file_state', 'submitted_aligned_reads_md5sum',\n",
       "       'submitted_aligned_reads_object_id',\n",
       "       'submitted_aligned_reads_project_id', 'submitted_aligned_reads_state',\n",
       "       'submitted_aligned_reads_submitter_id',\n",
       "       'submitted_aligned_reads_updated_datetime',\n",
       "       'medical_history_age_at_cac_score', 'medical_history_cac_score',\n",
       "       'medical_history_unit_cac_score'],\n",
       "      dtype='object', length=234)"
      ]
     },
     "execution_count": 9,
     "metadata": {},
     "output_type": "execute_result"
    }
   ],
   "source": [
    "consolidated_df.columns"
   ]
  },
  {
   "cell_type": "code",
   "execution_count": 10,
   "metadata": {},
   "outputs": [
    {
     "data": {
      "text/plain": [
       "234"
      ]
     },
     "execution_count": 10,
     "metadata": {},
     "output_type": "execute_result"
    }
   ],
   "source": [
    "len(consolidated_df.columns)"
   ]
  },
  {
   "cell_type": "markdown",
   "metadata": {},
   "source": [
    "Number of rows"
   ]
  },
  {
   "cell_type": "code",
   "execution_count": 11,
   "metadata": {},
   "outputs": [
    {
     "data": {
      "text/plain": [
       "930"
      ]
     },
     "execution_count": 11,
     "metadata": {},
     "output_type": "execute_result"
    }
   ],
   "source": [
    "len(consolidated_df.index)"
   ]
  },
  {
   "cell_type": "markdown",
   "metadata": {},
   "source": [
    "(Optionally) delete the consolidated data table that was created above.\n",
    "This can take a few minutes."
   ]
  },
  {
   "cell_type": "code",
   "execution_count": null,
   "metadata": {},
   "outputs": [],
   "source": [
    "delete_terra_table(BILLING_PROJECT_ID, WORKSPACE, consolidated_table_name)"
   ]
  },
  {
   "cell_type": "code",
   "execution_count": null,
   "metadata": {},
   "outputs": [],
   "source": []
  }
 ],
 "metadata": {
  "kernelspec": {
   "display_name": "Python 3",
   "language": "python",
   "name": "python3"
  },
  "language_info": {
   "codemirror_mode": {
    "name": "ipython",
    "version": 3
   },
   "file_extension": ".py",
   "mimetype": "text/x-python",
   "name": "python",
   "nbconvert_exporter": "python",
   "pygments_lexer": "ipython3",
   "version": "3.7.6"
  },
  "toc": {
   "base_numbering": 1,
   "nav_menu": {},
   "number_sections": true,
   "sideBar": true,
   "skip_h1_title": false,
   "title_cell": "Table of Contents",
   "title_sidebar": "Contents",
   "toc_cell": false,
   "toc_position": {},
   "toc_section_display": true,
   "toc_window_display": false
  }
 },
 "nbformat": 4,
 "nbformat_minor": 2
}
