{
 "cells": [
  {
   "cell_type": "markdown",
   "metadata": {},
   "source": [
    "# Gen3/Terra Data Utility Functions"
   ]
  },
  {
   "cell_type": "markdown",
   "metadata": {},
   "source": [
    "## Description\n",
    "\n",
    "This Notebook provides Python functions to facilitate working with Gen3 data in Terra.\n",
    "\n",
    "TODO Add a proper description.\n",
    "\n",
    "This is Notebook is currently a **work in progress** and is not yet intended for general availability/use.  \n",
    "Some of the more important known limitations are:\n",
    "* Subjects are only included in the resulting consolidated table if there is an entry corresponding to the subject for all tables in the consolidation/merge specification. There is not yet support for the distinction between required and optional tables.\n",
    "* The `reference_file` table data is not currently included in the consolidated table. Attempting to do so resulted in much duplication in the resulting table. This may be solvable, yet requires investigtion.\n",
    "* Provide user-friendly/useful error messages when problems occur.\n",
    "* (Currently) fails to import \"large\" (e.g., 8,000+ rows) consolidated tables into Terra\n",
    "* Needs documentation for end-user use, customization and selected implementation details.\n",
    "* Remove numeric index from resulting dataframe\n",
    "* Needs automated tests\n",
    "* ...\n",
    "\n",
    "That said, it generally seems be working pretty well and should enable continuing development of example workspaces for GWAS and other analysis. Yet, given its early state, some issues should be expected to be found, and reported when they are.\n",
    "Continuing evoltion depends on feedback, which is welcomed and encouraged.\n"
   ]
  },
  {
   "cell_type": "markdown",
   "metadata": {},
   "source": [
    "## Dependencies and Imports"
   ]
  },
  {
   "cell_type": "markdown",
   "metadata": {},
   "source": [
    "Ensure that a recent version of firecloud is installed.\n",
    "The version must be 0.16.23 or later for flexible entity support."
   ]
  },
  {
   "cell_type": "code",
   "execution_count": null,
   "metadata": {},
   "outputs": [],
   "source": [
    "# ! pip install --upgrade firecloud\n",
    "# ! pip show firecloud\n",
    "# ! pip install pysnooper"
   ]
  },
  {
   "cell_type": "code",
   "execution_count": null,
   "metadata": {
    "pycharm": {
     "is_executing": false
    }
   },
   "outputs": [],
   "source": [
    "import io\n",
    "import os\n",
    "from datetime import datetime\n",
    "\n",
    "from firecloud import fiss\n",
    "import firecloud.api as fapi\n",
    "import numpy as np\n",
    "import pandas as pd\n",
    "# import pysnooper"
   ]
  },
  {
   "cell_type": "markdown",
   "metadata": {},
   "source": [
    "# Gen3 Data Model Specific Functions"
   ]
  },
  {
   "cell_type": "markdown",
   "metadata": {},
   "source": [
    "### Create a consolidated data table containing both genomic and phenotypic data"
   ]
  },
  {
   "cell_type": "code",
   "execution_count": null,
   "metadata": {},
   "outputs": [],
   "source": [
    "GEN3_ENTITY_ID_COLUMN = \"subject_submitter_id\""
   ]
  },
  {
   "cell_type": "code",
   "execution_count": null,
   "metadata": {
    "pycharm": {
     "is_executing": false
    }
   },
   "outputs": [],
   "source": [
    "GEN3_GENO_PHENO_MERGE_SPEC = [\n",
    "    {\n",
    "        \"join_key\": \"simple_germline_variation\",\n",
    "        \"table_names\": [\"simple_germline_variation\", \"germline_variation_index\"]\n",
    "    },\n",
    "    {\n",
    "        \"join_key\": \"submitted_aligned_reads\",\n",
    "        \"table_names\": [\"submitted_aligned_reads\", \"aligned_reads_index\"]\n",
    "    },\n",
    "    {\n",
    "        \"join_key\": \"read_group\",\n",
    "        \"table_names\": [\"read_group\"]\n",
    "    },\n",
    "    {\n",
    "        \"join_key\": \"aliquot\",\n",
    "        \"table_names\": [\"aliquot\"]\n",
    "    },\n",
    "    {\n",
    "        \"join_key\": \"sample\",\n",
    "        \"table_names\": [\"sample\"]\n",
    "    },\n",
    "    {\n",
    "        \"join_key\": \"subject\",\n",
    "        \"table_names\": [\"subject\", \"blood_pressure_test\", \"demographic\", \"exposure\", \"lab_result\", \"medical_history\", \"medication\"]\n",
    "    },\n",
    "    {\n",
    "        \"join_key\": \"study\",\n",
    "        \"table_names\": [\"study\"]\n",
    "    },\n",
    "    {\n",
    "        \"join_key\": \"project\",\n",
    "        \"table_names\": [\"project\"]\n",
    "    },\n",
    "    {\n",
    "        \"join_key\": \"program\",\n",
    "        \"table_names\": [\"program\"]\n",
    "    }\n",
    "]"
   ]
  },
  {
   "cell_type": "code",
   "execution_count": null,
   "metadata": {
    "pycharm": {
     "is_executing": false
    }
   },
   "outputs": [],
   "source": [
    "def consolidate_gen3_geno_pheno_tables(new_table_name: str):\n",
    "    consolidate_to_terra_table(GEN3_GENO_PHENO_MERGE_SPEC, new_table_name, GEN3_ENTITY_ID_COLUMN)"
   ]
  },
  {
   "cell_type": "markdown",
   "metadata": {},
   "source": [
    "### Create a consolidated data table containing only genomic (no phenotypic) data"
   ]
  },
  {
   "cell_type": "code",
   "execution_count": null,
   "metadata": {},
   "outputs": [],
   "source": [
    "GEN3_GENO_MERGE_SPEC = [\n",
    "    {\n",
    "        \"join_key\": \"simple_germline_variation\",\n",
    "        \"table_names\": [\"simple_germline_variation\", \"germline_variation_index\"]\n",
    "    },\n",
    "    {\n",
    "        \"join_key\": \"submitted_aligned_reads\",\n",
    "        \"table_names\": [\"submitted_aligned_reads\", \"aligned_reads_index\"]\n",
    "    },\n",
    "    {\n",
    "        \"join_key\": \"read_group\",\n",
    "        \"table_names\": [\"read_group\"]\n",
    "    },\n",
    "    {\n",
    "        \"join_key\": \"aliquot\",\n",
    "        \"table_names\": [\"aliquot\"]\n",
    "    },\n",
    "    {\n",
    "        \"join_key\": \"sample\",\n",
    "        \"table_names\": [\"sample\"]\n",
    "    },\n",
    "    {\n",
    "        \"join_key\": \"subject\",\n",
    "        \"table_names\": [\"subject\"]\n",
    "    },\n",
    "    {\n",
    "        \"join_key\": \"study\",\n",
    "        \"table_names\": [\"study\"]\n",
    "    },\n",
    "    {\n",
    "        \"join_key\": \"project\",\n",
    "        \"table_names\": [\"project\"]\n",
    "    },\n",
    "    {\n",
    "        \"join_key\": \"program\",\n",
    "        \"table_names\": [\"program\"]\n",
    "    }\n",
    "]"
   ]
  },
  {
   "cell_type": "code",
   "execution_count": null,
   "metadata": {},
   "outputs": [],
   "source": [
    "def consolidate_gen3_geno_tables(new_table_name: str):\n",
    "    consolidate_to_terra_table(GEN3_GENO_MERGE_SPEC, new_table_name, GEN3_ENTITY_ID_COLUMN)"
   ]
  },
  {
   "cell_type": "markdown",
   "metadata": {},
   "source": [
    "### Create a consolidated data table containing only phenotypic (no genomic) data"
   ]
  },
  {
   "cell_type": "code",
   "execution_count": null,
   "metadata": {},
   "outputs": [],
   "source": [
    "GEN3_PHENO_MERGE_SPEC = [\n",
    "    {\n",
    "        \"join_key\": \"subject\",\n",
    "        \"table_names\": [\"subject\", \"blood_pressure_test\", \"demographic\", \"exposure\", \"lab_result\", \"medical_history\", \"medication\"]\n",
    "    },\n",
    "    {\n",
    "        \"join_key\": \"study\",\n",
    "        \"table_names\": [\"study\"]\n",
    "    },\n",
    "    {\n",
    "        \"join_key\": \"project\",\n",
    "        \"table_names\": [\"project\"]\n",
    "    },\n",
    "    {\n",
    "        \"join_key\": \"program\",\n",
    "        \"table_names\": [\"program\"]\n",
    "    }\n",
    "]"
   ]
  },
  {
   "cell_type": "code",
   "execution_count": null,
   "metadata": {},
   "outputs": [],
   "source": [
    "def consolidate_gen3_pheno_tables(new_table_name: str):\n",
    "    consolidate_to_terra_table(GEN3_PHENO_MERGE_SPEC, new_table_name, GEN3_ENTITY_ID_COLUMN)"
   ]
  },
  {
   "cell_type": "markdown",
   "metadata": {},
   "source": [
    "### Enable users to conveniently create a custom consolidtated table, whithout effecting the standard functions above"
   ]
  },
  {
   "cell_type": "code",
   "execution_count": null,
   "metadata": {},
   "outputs": [],
   "source": [
    "GEN3_USER_CUSTOM_MERGE_SPEC = [\n",
    "    {\n",
    "        \"join_key\": \"simple_germline_variation\",\n",
    "        \"table_names\": [\"simple_germline_variation\", \"germline_variation_index\"]\n",
    "    },\n",
    "    {\n",
    "        \"join_key\": \"submitted_aligned_reads\",\n",
    "        \"table_names\": [\"submitted_aligned_reads\", \"aligned_reads_index\"]\n",
    "    },\n",
    "    {\n",
    "        \"join_key\": \"read_group\",\n",
    "        \"table_names\": [\"read_group\"]\n",
    "    },\n",
    "    {\n",
    "        \"join_key\": \"aliquot\",\n",
    "        \"table_names\": [\"aliquot\"]\n",
    "    },\n",
    "    {\n",
    "        \"join_key\": \"sample\",\n",
    "        \"table_names\": [\"sample\"]\n",
    "    },\n",
    "    {\n",
    "        \"join_key\": \"subject\",\n",
    "        \"table_names\": [\"subject\", \"blood_pressure_test\", \"demographic\", \"exposure\", \"lab_result\", \"medical_history\", \"medication\"]\n",
    "    },\n",
    "    {\n",
    "        \"join_key\": \"study\",\n",
    "        \"table_names\": [\"study\"]\n",
    "    },\n",
    "    {\n",
    "        \"join_key\": \"project\",\n",
    "        \"table_names\": [\"project\"]\n",
    "    },\n",
    "    {\n",
    "        \"join_key\": \"program\",\n",
    "        \"table_names\": [\"program\"]\n",
    "    }\n",
    "]"
   ]
  },
  {
   "cell_type": "code",
   "execution_count": null,
   "metadata": {},
   "outputs": [],
   "source": [
    "def consolidate_gen3_custom_tables(new_table_name: str):\n",
    "    consolidate_to_terra_table(GEN3_USER_CUSTOM_MERGE_SPEC, new_table_name, GEN3_ENTITY_ID_COLUMN)"
   ]
  },
  {
   "cell_type": "markdown",
   "metadata": {},
   "source": [
    "## Data and functions used internally (not intended for user modification)"
   ]
  },
  {
   "cell_type": "code",
   "execution_count": null,
   "metadata": {},
   "outputs": [],
   "source": [
    "# This is the list of tables defined in the Gen3 data model, for Notebook-internal use.\n",
    "# All of the tables used in merge specications must exist in this list,\n",
    "# yet this list may contain additional tables are not used in the\n",
    "# merge specifications and do not exist in the current workspace data table.\n",
    "#\n",
    "# The following information could(/should) be obtained from Gen3 (dynamically?).\n",
    "# For now, use an explicit list.\n",
    "\n",
    "GEN3_TABLE_NAMES={'aligned_reads_index',\n",
    " 'aliquot',\n",
    " 'blood_pressure_test',\n",
    " 'demographic',\n",
    " 'exposure',\n",
    " 'germline_variation_index',\n",
    " 'lab_result',\n",
    " 'medical_history',\n",
    " 'medication',\n",
    " 'program',\n",
    " 'project',                \n",
    " 'read_group',\n",
    " 'reference_file',\n",
    " 'sample',\n",
    " 'simple_germline_variation',\n",
    " 'study',\n",
    " 'subject',\n",
    " 'submitted_aligned_reads'}"
   ]
  },
  {
   "cell_type": "code",
   "execution_count": null,
   "metadata": {
    "pycharm": {
     "is_executing": false
    }
   },
   "outputs": [],
   "source": [
    "def consolidate_to_terra_table(merge_spec: list, entity_name: str, entity_id_column:str)  -> pd.DataFrame:\n",
    "    consolidated_df = consolidate_to_df(merge_spec)\n",
    " \n",
    "    # Add \"entity:{entity_name}_id\" as the first column, as required by Terra.\n",
    "    # TODO Check if there is a better way to do this.\n",
    "    consolidated_df.insert(0, f\"entity:{entity_name}_id\", consolidated_df[entity_id_column])\n",
    "    print(\"The consolidated data frame size is: {} rows x {} columns\".format(consolidated_df.shape[0], consolidated_df.shape[1]))\n",
    "    columns = consolidated_df.columns.tolist()\n",
    "    write_df_to_tsv_file(consolidated_df, \"consolidated_df\")\n",
    "    consolidated_tsv = consolidated_df.to_csv(sep=\"\\t\", index=False)\n",
    "    fiss_entity_import(BILLING_PROJECT_ID, WORKSPACE, consolidated_tsv, \"flexible\")\n",
    "    \n",
    "    # Outout the resulting data table size TODO - Find a more efficient way to do this\n",
    "    data_table_df = get_terra_table_to_df(BILLING_PROJECT_ID, WORKSPACE, entity_name)\n",
    "    print(\"The consolidated data table \"\"{}\"\" size is: {} rows x {} columns\".format(entity_name, data_table_df.shape[0], data_table_df.shape[1]))"
   ]
  },
  {
   "cell_type": "code",
   "execution_count": null,
   "metadata": {
    "pycharm": {
     "is_executing": false
    }
   },
   "outputs": [],
   "source": [
    "def consolidate_to_tsv(merge_spec: list)  -> pd.DataFrame:\n",
    "    return consolidate_to_df(merge_spec).to_csv(sep=\"\\t\")"
   ]
  },
  {
   "cell_type": "code",
   "execution_count": null,
   "metadata": {
    "pycharm": {
     "is_executing": false
    }
   },
   "outputs": [],
   "source": [
    "def consolidate_to_df(merge_spec: list)  -> pd.DataFrame:\n",
    "    merged_df = None\n",
    "    for merge_info in merge_spec:\n",
    "        join_key = get_eid_column_name(merge_info['join_key'])\n",
    "        merged_df = consolidate_tables_to_df(join_key, merge_info['table_names'], merged_df)\n",
    "    return merged_df"
   ]
  },
  {
   "cell_type": "code",
   "execution_count": null,
   "metadata": {
    "pycharm": {
     "is_executing": false
    }
   },
   "outputs": [],
   "source": [
    "# @pysnooper.snoop()\n",
    "def consolidate_tables_to_df(common_key: str, table_names: list, initial_df = None) -> pd.DataFrame:\n",
    "    if initial_df is None:\n",
    "        assert len(table_names) >= 2, \"At least two table names are required.\" \n",
    "        table_name = table_names[0]\n",
    "        merged_df = get_gen3_terra_table_to_df(BILLING_PROJECT_ID, WORKSPACE, table_name)\n",
    "        if table_name == \"sample\":\n",
    "            merged_df = deduplicate_sample_data(merged_df)\n",
    "        table_names = table_names[1:]\n",
    "    else:\n",
    "        assert len(table_names) >= 1, \"At least one table names is required to merge with previous data.\"\n",
    "        merged_df = initial_df\n",
    "    for table_name in table_names:\n",
    "        current_df = get_gen3_terra_table_to_df(BILLING_PROJECT_ID, WORKSPACE, table_name)\n",
    "        if table_name == \"sample\":\n",
    "            current_df = deduplicate_sample_data(current_df)\n",
    "        # DEBUG -- Comment out the following two lines before committing\n",
    "        # write_df_to_tsv_file(merged_df, \"merged_df\")\n",
    "        # write_df_to_tsv_file(current_df, \"current_df\")\n",
    "        merged_df = merged_df.merge(current_df, on=common_key, how=\"inner\", copy=False, suffixes=(False, False))\n",
    "        # Deduplicate \"*_eid\" columns\n",
    "        merged_df = merged_df.loc[:,~merged_df.columns.duplicated()]\n",
    "    return merged_df"
   ]
  },
  {
   "cell_type": "code",
   "execution_count": null,
   "metadata": {
    "pycharm": {
     "is_executing": false,
     "name": "#%%\n"
    }
   },
   "outputs": [],
   "source": [
    "def get_gen3_terra_table_to_df(project: str, workspace: str, table_name: str, model=\"flexible\") -> pd.DataFrame:\n",
    "    table_df = get_terra_table_to_df(project, workspace, table_name)\n",
    "    columns = table_df.columns\n",
    "    rename_column(table_df, f\"entity:{table_name}_id\", f\"{table_name}_eid\") # Column 0\n",
    "    for column in columns[1:]:\n",
    "        if column in GEN3_TABLE_NAMES:\n",
    "            rename_column(table_df, column, f\"{column}_eid\")\n",
    "        else:\n",
    "            rename_column(table_df, column, f\"{table_name}_{column}\")\n",
    "    # Deduplicate \"*_eid\" columns\n",
    "    table_df = table_df.loc[:,~table_df.columns.duplicated()]\n",
    "    return table_df\n"
   ]
  },
  {
   "cell_type": "code",
   "execution_count": null,
   "metadata": {
    "pycharm": {
     "is_executing": false,
     "name": "#%%\n"
    }
   },
   "outputs": [],
   "source": [
    "def get_eid_column_name(entity_type: str):\n",
    "    return f\"{entity_type}_eid\""
   ]
  },
  {
   "cell_type": "code",
   "execution_count": null,
   "metadata": {},
   "outputs": [],
   "source": [
    "def deduplicate_sample_data(df: pd.DataFrame)  -> pd.DataFrame:\n",
    "    # Some TOPMed projects (COPDGene, MESA, maybe others) are known to have multiple sample\n",
    "    # entries for the same subject. According to BDC data experts, the duplicates should\n",
    "    # be equivalent, so just keep the first entry found in each case.\n",
    "    deduped_df = df.drop_duplicates(subset=[\"subject_eid\"], keep=\"first\", inplace=False)\n",
    "    original_row_count = df.shape[0]\n",
    "    deduped_row_count = deduped_df.shape[0]\n",
    "    if deduped_row_count < original_row_count:\n",
    "        difference = original_row_count - deduped_row_count\n",
    "        print(\"Removed {} duplicate rows from \\\"sample\\\" data based on subject. Retained the first entry found.\".format(difference))\n",
    "    return deduped_df"
   ]
  },
  {
   "cell_type": "markdown",
   "metadata": {},
   "source": [
    "## Common/General Utility Functions"
   ]
  },
  {
   "cell_type": "code",
   "execution_count": null,
   "metadata": {
    "pycharm": {
     "is_executing": false
    }
   },
   "outputs": [],
   "source": [
    "def get_terra_table_to_df(project: str, workspace: str, table_name: str, model=\"flexible\") -> pd.DataFrame:\n",
    "    table_df = pd.read_csv(io.StringIO(fapi.get_entities_tsv(project, workspace, table_name, model=model).text), sep='\\t')\n",
    "    return table_df"
   ]
  },
  {
   "cell_type": "code",
   "execution_count": null,
   "metadata": {
    "pycharm": {
     "is_executing": false
    }
   },
   "outputs": [],
   "source": [
    "def rename_column(df: pd.DataFrame, current_column_name: str, new_column_name: str) -> None:\n",
    "    df.rename(columns={current_column_name : new_column_name}, inplace=True)"
   ]
  },
  {
   "cell_type": "code",
   "execution_count": null,
   "metadata": {
    "pycharm": {
     "is_executing": false,
     "name": "#%%\n"
    }
   },
   "outputs": [],
   "source": [
    "def write_df_to_tsv_file(df: pd.DataFrame, filename: str) -> None:\n",
    "    filename += \"_\" + datetime.now().strftime(\"%Y%m%d_%H%M%S%f\") + \".tsv\"\n",
    "    with open(filename, mode=\"w\") as tsv_file:\n",
    "        tsv_string = df.to_csv(sep=\"\\t\", index=False)\n",
    "        tsv_file.write(tsv_string)"
   ]
  },
  {
   "cell_type": "code",
   "execution_count": null,
   "metadata": {
    "pixiedust": {
     "displayParams": {}
    },
    "pycharm": {
     "is_executing": false
    }
   },
   "outputs": [],
   "source": [
    "def fiss_entity_import(project: str, workspace: str, entity_tsv: str, model: str):\n",
    "    response = fapi.upload_entities(project, workspace, entity_tsv, model)\n",
    "    fapi._check_response_code(response, 200)"
   ]
  },
  {
   "cell_type": "code",
   "execution_count": null,
   "metadata": {
    "pycharm": {
     "is_executing": false,
     "name": "#%%\n"
    }
   },
   "outputs": [],
   "source": [
    "def delete_terra_table(project: str, workspace: str, table_name: str):\n",
    "    # TODO There has to be better way than this to simply delete a table/entity-type.\n",
    "    table_to_delete_df = get_terra_table_to_df(project, workspace, table_name)\n",
    "    entity_id_column_name = f\"entity:{table_name}_id\"\n",
    "    entity_id_series = table_to_delete_df[entity_id_column_name]\n",
    "    num_chunks = entity_id_series.size / 100\n",
    "    for chunk in  np.array_split(entity_id_series, num_chunks):\n",
    "        response = fapi.delete_entity_type(project, workspace, table_name, chunk)\n",
    "        fapi._check_response_code(response, 204)"
   ]
  },
  {
   "cell_type": "markdown",
   "metadata": {},
   "source": [
    "# Built-in Test/Debug/Demo Code"
   ]
  },
  {
   "cell_type": "markdown",
   "metadata": {
    "pycharm": {
     "name": "#%% md\n"
    }
   },
   "source": [
    "To test with data in a different workspace than the one that contains this Notebook,\n",
    "specify remote workspace information below. This enables convenient testing of data\n",
    "for multiple different projects/cohorts using this same Notebook in the current workspace."
   ]
  },
  {
   "cell_type": "code",
   "execution_count": null,
   "metadata": {},
   "outputs": [],
   "source": [
    "# os.environ['GOOGLE_PROJECT'] = os.environ['WORKSPACE_NAMESPACE'] = \"anvil-stage-demo\"\n",
    "# os.environ['WORKSPACE_NAME']=\"mbaumann terra_data_util test Amish\""
   ]
  },
  {
   "cell_type": "markdown",
   "metadata": {
    "pycharm": {
     "name": "#%% md\n"
    }
   },
   "source": [
    "Set standard names used in this Notebook for these values."
   ]
  },
  {
   "cell_type": "code",
   "execution_count": null,
   "metadata": {
    "pycharm": {
     "name": "#%%\n"
    }
   },
   "outputs": [],
   "source": [
    "# BILLING_PROJECT_ID = os.environ['GOOGLE_PROJECT']\n",
    "# WORKSPACE = os.environ['WORKSPACE_NAME']"
   ]
  },
  {
   "cell_type": "markdown",
   "metadata": {
    "pycharm": {
     "name": "#%% md\n"
    }
   },
   "source": [
    "## Specify which example tables to create"
   ]
  },
  {
   "cell_type": "code",
   "execution_count": null,
   "metadata": {
    "pycharm": {
     "name": "#%%\n"
    }
   },
   "outputs": [],
   "source": [
    "# create_example_consolidated_geno_pheno_table=True\n",
    "# create_example_consolidated_geno_table=False\n",
    "# create_example_consolidated_pheno_table=False\n",
    "# create_example_consolidated_custom_table=False\n",
    "# delete_created_tables=True"
   ]
  },
  {
   "cell_type": "markdown",
   "metadata": {
    "pycharm": {
     "name": "#%% md\n"
    }
   },
   "source": [
    "## Code to create each table specified above"
   ]
  },
  {
   "cell_type": "code",
   "execution_count": null,
   "metadata": {},
   "outputs": [],
   "source": [
    "# if create_example_consolidated_geno_pheno_table:\n",
    "#     example_table_name = \"example_consolidated_geno_pheno_table\"\n",
    "#     consolidate_gen3_geno_pheno_tables(example_table_name)\n",
    "#     if delete_created_tables:\n",
    "#          delete_terra_table(BILLING_PROJECT_ID, WORKSPACE, example_table_name)"
   ]
  },
  {
   "cell_type": "code",
   "execution_count": null,
   "metadata": {},
   "outputs": [],
   "source": [
    "# if create_example_consolidated_geno_table:\n",
    "#     example_table_name = \"example_consolidated_geno_table\"\n",
    "#     consolidate_gen3_geno_tables(example_table_name)\n",
    "#     if delete_created_tables:\n",
    "#          delete_terra_table(BILLING_PROJECT_ID, WORKSPACE, example_table_name)"
   ]
  },
  {
   "cell_type": "code",
   "execution_count": null,
   "metadata": {},
   "outputs": [],
   "source": [
    "# if create_example_consolidated_pheno_table:\n",
    "#     example_table_name = \"example_consolidated_pheno_table\"\n",
    "#     consolidate_gen3_pheno_tables(example_table_name)\n",
    "#     if delete_created_tables:\n",
    "#          delete_terra_table(BILLING_PROJECT_ID, WORKSPACE, example_table_name)"
   ]
  },
  {
   "cell_type": "code",
   "execution_count": null,
   "outputs": [],
   "source": [
    "# if create_example_consolidated_custom_table:\n",
    "#     example_table_name = \"example_consolidated_custom_table\"\n",
    "#     consolidate_gen3_custom_tables(example_table_name)\n",
    "#     if delete_created_tables:\n",
    "#          delete_terra_table(BILLING_PROJECT_ID, WORKSPACE, example_table_name)"
   ],
   "metadata": {
    "collapsed": false,
    "pycharm": {
     "name": "#%%\n"
    }
   }
  },
  {
   "cell_type": "code",
   "execution_count": null,
   "metadata": {},
   "outputs": [],
   "source": [
    "# if create_example_consolidated_custom_table:\n",
    "#     example_table_name = \"example_consolidated_custom_table\"\n",
    "#     consolidate_gen3_custom_tables(example_table_name)\n",
    "#     if delete_created_tables:\n",
    "#          delete_terra_table(BILLING_PROJECT_ID, WORKSPACE, example_table_name)"
   ]
  }
 ],
 "metadata": {
  "kernelspec": {
   "display_name": "Python 3",
   "language": "python",
   "name": "python3"
  },
  "language_info": {
   "codemirror_mode": {
    "name": "ipython",
    "version": 3
   },
   "file_extension": ".py",
   "mimetype": "text/x-python",
   "name": "python",
   "nbconvert_exporter": "python",
   "pygments_lexer": "ipython3",
   "version": "3.7.6"
  },
  "pycharm": {
   "stem_cell": {
    "cell_type": "raw",
    "source": [],
    "metadata": {
     "collapsed": false
    }
   }
  },
  "toc": {
   "base_numbering": 1,
   "nav_menu": {},
   "number_sections": true,
   "sideBar": true,
   "skip_h1_title": false,
   "title_cell": "Table of Contents",
   "title_sidebar": "Contents",
   "toc_cell": false,
   "toc_position": {},
   "toc_section_display": true,
   "toc_window_display": false
  }
 },
 "nbformat": 4,
 "nbformat_minor": 2
}